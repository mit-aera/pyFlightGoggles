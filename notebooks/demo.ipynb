{
 "cells": [
  {
   "cell_type": "code",
   "execution_count": null,
   "metadata": {
    "scrolled": false
   },
   "outputs": [],
   "source": [
    "#!/usr/bin/env python\n",
    "# coding: utf-8\n",
    "%matplotlib inline\n",
    "%reload_ext autoreload\n",
    "%autoreload 2\n",
    "import sys\n",
    "import numpy as np\n",
    "from IPython.display import HTML, display\n",
    "\n",
    "sys.path.insert(0, '../')\n",
    "from flightgoggles.env import *\n",
    "\n",
    "if __name__ == \"__main__\":\n",
    "    env = flightgoggles_env()\n",
    "    object_position = np.array([0., 0., 0.])\n",
    "    object_attitude = np.array([0., 0., 0., 1.])\n",
    "    env.set_state_object(\"Gate1\", object_position, object_attitude)\n",
    "    for j in range(10):\n",
    "        env.proceed_motor_speed(\"uav1\", np.array([1132.0,1132.0,1132.0,1132.0]), 0.1)\n",
    "    env.plot_state(\"uav1\", \"motor_speed\")\n",
    "    ani_set = env.plot_state_video()\n",
    "    display(HTML(ani_set[\"Camera_Left_RGB\"].to_html5_video()))\n",
    "    display(HTML(ani_set[\"Camera_Left_OpticalFlow\"].to_html5_video()))\n",
    "    display(HTML(ani_set[\"Camera_Left_Depth\"].to_html5_video()))\n",
    "    display(HTML(ani_set[\"Camera_Left_SurfaceNormal\"].to_html5_video()))\n",
    "    display(HTML(ani_set[\"Camera_Left_Segmentation\"].to_html5_video()))\n",
    "    display(HTML(ani_set[\"Camera_Left_Gray\"].to_html5_video()))\n",
    "    env.close()"
   ]
  }
 ],
 "metadata": {
  "kernelspec": {
   "display_name": "Python 3",
   "language": "python",
   "name": "python3"
  },
  "language_info": {
   "codemirror_mode": {
    "name": "ipython",
    "version": 3
   },
   "file_extension": ".py",
   "mimetype": "text/x-python",
   "name": "python",
   "nbconvert_exporter": "python",
   "pygments_lexer": "ipython3",
   "version": "3.6.9"
  }
 },
 "nbformat": 4,
 "nbformat_minor": 4
}
