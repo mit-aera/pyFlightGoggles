{
 "cells": [
  {
   "cell_type": "code",
   "execution_count": null,
   "id": "ef625cc8",
   "metadata": {},
   "outputs": [],
   "source": [
    "#!/usr/bin/env python\n",
    "# coding: utf-8\n",
    "%matplotlib inline\n",
    "%reload_ext autoreload\n",
    "%autoreload 2\n",
    "import sys\n",
    "import numpy as np\n",
    "from IPython.display import HTML, display\n",
    "\n",
    "sys.path.insert(0, '../')\n",
    "from flightgoggles.env import *\n",
    "from flightgoggles.utils import *\n",
    "\n",
    "if __name__ == \"__main__\":\n",
    "    env = flightgoggles_env(\n",
    "        cfg_dir=\"../config\",\n",
    "        cfg_fgclient=\"FlightGogglesClient_demo_moving_objects.yaml\",\n",
    "        cfg_uav=\"multicopterDynamicsSim.yaml\")\n",
    "    \n",
    "    env.set_state_vehicle(vehicle_id=\"uav1\", attitude_euler_angle=np.array([0.,0.,0.]))\n",
    "    target_pose = np.zeros(4)\n",
    "    target_pose[:3] = env.get_state(\"uav1\")[\"position\"] + np.array([1.,9.,0.])\n",
    "    target_pose[3] = env.get_state(\"uav1\")[\"attitude_euler_angle\"][2] + np.pi/2\n",
    "    \n",
    "    # Set gate position\n",
    "    env.set_state_object(\"gate1\", \n",
    "        np.array([18.,-2.5,-0.2]), \n",
    "        Euler2quat(np.array([0,-np.pi/2,np.pi/2])))\n",
    "    \n",
    "    for j in range(200):\n",
    "        env.proceed_waypoint(vehicle_id=\"uav1\", \n",
    "            waypoint_command=target_pose, duration=0.01)\n",
    "\n",
    "    ani_set = env.plot_state_video(flag_save=False, filename=\"uav\", dpi=400)\n",
    "    if \"cam1\" in ani_set.keys():\n",
    "        display(HTML(ani_set[\"cam1\"].to_html5_video()))\n",
    "    env.close()"
   ]
  }
 ],
 "metadata": {
  "kernelspec": {
   "display_name": "Python 3",
   "language": "python",
   "name": "python3"
  },
  "language_info": {
   "codemirror_mode": {
    "name": "ipython",
    "version": 3
   },
   "file_extension": ".py",
   "mimetype": "text/x-python",
   "name": "python",
   "nbconvert_exporter": "python",
   "pygments_lexer": "ipython3",
   "version": "3.6.9"
  }
 },
 "nbformat": 4,
 "nbformat_minor": 5
}
