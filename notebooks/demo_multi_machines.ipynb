{
 "cells": [
  {
   "cell_type": "code",
   "execution_count": null,
   "metadata": {
    "scrolled": false
   },
   "outputs": [],
   "source": [
    "#!/usr/bin/env python\n",
    "# coding: utf-8\n",
    "%matplotlib inline\n",
    "%reload_ext autoreload\n",
    "%autoreload 2\n",
    "import sys\n",
    "import numpy as np\n",
    "from IPython.display import HTML, display\n",
    "\n",
    "sys.path.insert(0, '../')\n",
    "from flightgoggles.env import *\n",
    "\n",
    "if __name__ == \"__main__\":\n",
    "    env = flightgoggles_env(\n",
    "        cfg_dir=\"../config\",\n",
    "        cfg_fgclient=\"FlightGogglesClient_demo_multi_machines.yaml\")\n",
    "    \n",
    "    for i in range(200):\n",
    "        env.proceed_motor_speed(\"uav1\", np.ones(4)*1133.0, 0.01)\n",
    "    \n",
    "    ani_set = env.plot_state_video()\n",
    "    if \"cam0\" in ani_set.keys():\n",
    "        display(HTML(ani_set[\"cam0\"].to_html5_video()))\n",
    "    if \"cam1\" in ani_set.keys():\n",
    "        display(HTML(ani_set[\"cam1\"].to_html5_video()))\n",
    "    if \"cam2\" in ani_set.keys():\n",
    "        display(HTML(ani_set[\"cam2\"].to_html5_video()))\n",
    "    env.close()"
   ]
  }
 ],
 "metadata": {
  "kernelspec": {
   "display_name": "Python 3",
   "language": "python",
   "name": "python3"
  },
  "language_info": {
   "codemirror_mode": {
    "name": "ipython",
    "version": 3
   },
   "file_extension": ".py",
   "mimetype": "text/x-python",
   "name": "python",
   "nbconvert_exporter": "python",
   "pygments_lexer": "ipython3",
   "version": "3.6.9"
  }
 },
 "nbformat": 4,
 "nbformat_minor": 4
}
