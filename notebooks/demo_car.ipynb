{
 "cells": [
  {
   "cell_type": "code",
   "execution_count": null,
   "metadata": {
    "scrolled": false
   },
   "outputs": [],
   "source": [
    "#!/usr/bin/env python\n",
    "# coding: utf-8\n",
    "%matplotlib inline\n",
    "%reload_ext autoreload\n",
    "%autoreload 2\n",
    "import sys\n",
    "import numpy as np\n",
    "from IPython.display import HTML, display\n",
    "\n",
    "sys.path.insert(0, '../')\n",
    "from flightgoggles.env import *\n",
    "\n",
    "if __name__ == \"__main__\":\n",
    "    env = flightgoggles_env(\n",
    "        cfg_dir=\"../config\",\n",
    "        cfg_fgclient=\"FlightGogglesClient_demo_car.yaml\",\n",
    "        cfg_car=\"carDynamicsSim.yaml\")\n",
    "\n",
    "    for j in range(100):\n",
    "        env.proceed(\n",
    "            vehicle_id=\"car1\", \n",
    "            speed_command=1.0, \n",
    "            steering_angle_command=1.0, \n",
    "            duration=0.01)\n",
    "    env.plot_state(vehicle_id=\"car1\", attribute=\"position\")\n",
    "    env.save_logs(vehicle_id=\"car1\", save_dir=\"data/\")\n",
    "\n",
    "    img = env.get_camera_image(camera_id=\"cam1\")\n",
    "    print(img[-1][\"timestamp\"])\n",
    "    print(img[-1][\"data\"].shape)\n",
    "    \n",
    "    ani_set = env.plot_state_video(flag_save=False, filename=\"car\", dpi=400)\n",
    "    if \"cam1\" in ani_set.keys():\n",
    "        display(HTML(ani_set[\"cam1\"].to_html5_video()))\n",
    "    env.close()"
   ]
  }
 ],
 "metadata": {
  "kernelspec": {
   "display_name": "Python 3",
   "language": "python",
   "name": "python3"
  },
  "language_info": {
   "codemirror_mode": {
    "name": "ipython",
    "version": 3
   },
   "file_extension": ".py",
   "mimetype": "text/x-python",
   "name": "python",
   "nbconvert_exporter": "python",
   "pygments_lexer": "ipython3",
   "version": "3.6.9"
  }
 },
 "nbformat": 4,
 "nbformat_minor": 4
}
