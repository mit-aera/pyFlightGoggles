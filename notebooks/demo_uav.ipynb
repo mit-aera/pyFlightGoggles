{
 "cells": [
  {
   "cell_type": "code",
   "execution_count": null,
   "metadata": {
    "scrolled": false
   },
   "outputs": [],
   "source": [
    "#!/usr/bin/env python\n",
    "# coding: utf-8\n",
    "%matplotlib inline\n",
    "%reload_ext autoreload\n",
    "%autoreload 2\n",
    "import sys\n",
    "import numpy as np\n",
    "from IPython.display import HTML, display\n",
    "\n",
    "sys.path.insert(0, '../')\n",
    "from flightgoggles.env import *\n",
    "\n",
    "if __name__ == \"__main__\":\n",
    "    env = flightgoggles_env(\n",
    "        cfg_dir=\"../config\",\n",
    "        cfg_fgclient=\"FlightGogglesClient_demo_uav.yaml\",\n",
    "        cfg_uav=\"multicopterDynamicsSim.yaml\")\n",
    "\n",
    "    env.set_state_vehicle(vehicle_id=\"uav1\", attitude_euler_angle=np.array([0.,0.,0.]))\n",
    "    current_pos = env.get_state(\"uav1\")[\"position\"]\n",
    "    current_att = env.get_state(\"uav1\")[\"attitude_euler_angle\"]\n",
    "    target_pose = np.zeros(4)\n",
    "    target_pose[:3] = current_pos + np.array([0.0,9.0,0.0])\n",
    "    target_pose[3] = current_att[2] + np.pi/2\n",
    "    \n",
    "    for j in range(200):\n",
    "        env.proceed_waypoint(vehicle_id=\"uav1\", waypoint_command=target_pose, duration=0.01)\n",
    "    env.plot_state(vehicle_id=\"uav1\", attribute=\"position\")\n",
    "    env.save_logs(vehicle_id=\"uav1\", save_dir=\"data/\")\n",
    "    \n",
    "    img = env.get_camera_image(camera_id=\"cam1\")\n",
    "    print(img[-1][\"timestamp\"])\n",
    "\n",
    "    ani_set = env.plot_state_video(flag_save=False, filename=\"uav\", dpi=400)\n",
    "    if \"cam1\" in ani_set.keys():\n",
    "        display(HTML(ani_set[\"cam1\"].to_html5_video()))\n",
    "    env.close()"
   ]
  }
 ],
 "metadata": {
  "kernelspec": {
   "display_name": "Python 3",
   "language": "python",
   "name": "python3"
  },
  "language_info": {
   "codemirror_mode": {
    "name": "ipython",
    "version": 3
   },
   "file_extension": ".py",
   "mimetype": "text/x-python",
   "name": "python",
   "nbconvert_exporter": "python",
   "pygments_lexer": "ipython3",
   "version": "3.6.9"
  }
 },
 "nbformat": 4,
 "nbformat_minor": 4
}
